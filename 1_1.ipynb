{
 "cells": [
  {
   "cell_type": "code",
   "execution_count": 1,
   "metadata": {},
   "outputs": [
    {
     "name": "stdout",
     "output_type": "stream",
     "text": [
      "你好， 123\n",
      "原來你 52 歲\n",
      "體重為 56.0\n"
     ]
    }
   ],
   "source": [
    "name=input(\"請問貴姓大名?\")\n",
    "print(\"你好，\",name)\n",
    "y=int(input(\"請問年紀?\"))\n",
    "print(\"原來你\",y,\"歲\")\n",
    "w=float(input(\"請問體重?\"))\n",
    "print(\"體重為\",w)\n"
   ]
  }
 ],
 "metadata": {
  "kernelspec": {
   "display_name": "base",
   "language": "python",
   "name": "python3"
  },
  "language_info": {
   "codemirror_mode": {
    "name": "ipython",
    "version": 3
   },
   "file_extension": ".py",
   "mimetype": "text/x-python",
   "name": "python",
   "nbconvert_exporter": "python",
   "pygments_lexer": "ipython3",
   "version": "3.11.5"
  }
 },
 "nbformat": 4,
 "nbformat_minor": 2
}
