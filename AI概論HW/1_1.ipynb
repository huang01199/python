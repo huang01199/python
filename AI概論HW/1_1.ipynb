{
 "cells": [
  {
   "cell_type": "code",
   "execution_count": 1,
   "metadata": {},
   "outputs": [
    {
     "name": "stdout",
     "output_type": "stream",
     "text": [
      "你好， 123\n",
      "原來你 52 歲\n",
      "體重為 56.0\n"
     ]
    }
   ],
   "source": [
    "name=input(\"請問貴姓大名?\")\n",
    "print(\"你好，\",name)\n",
    "y=int(input(\"請問年紀?\"))\n",
    "print(\"原來你\",y,\"歲\")\n",
    "w=float(input(\"請問體重?\"))\n",
    "print(\"體重為\",w)\n"
   ]
  },
  {
   "cell_type": "code",
   "execution_count": 8,
   "metadata": {},
   "outputs": [
    {
     "name": "stdout",
     "output_type": "stream",
     "text": [
      "組別為8\n"
     ]
    }
   ],
   "source": [
    "座號=int(input(\"輸入座號\"))\n",
    "if (座號>=1)and(座號<=5):\n",
    "    print(\"組別為1\")\n",
    "elif (座號>=6)and(座號<=10):\n",
    "    print(\"組別為2\")\n",
    "elif (座號>=11)and(座號<=15):\n",
    "    print(\"組別為3\")\n",
    "elif (座號>=16)and(座號<=20):\n",
    "    print(\"組別為4\")\n",
    "elif (座號>=21)and(座號<=25):\n",
    "    print(\"組別為5\")\n",
    "elif (座號>=26)and(座號<=30):\n",
    "    print(\"組別為6\")\n",
    "elif (座號>=31)and(座號<=35):\n",
    "    print(\"組別為7\")\n",
    "else:\n",
    "    print(\"組別為8\")\n",
    "\n"
   ]
  }
 ],
 "metadata": {
  "kernelspec": {
   "display_name": "base",
   "language": "python",
   "name": "python3"
  },
  "language_info": {
   "codemirror_mode": {
    "name": "ipython",
    "version": 3
   },
   "file_extension": ".py",
   "mimetype": "text/x-python",
   "name": "python",
   "nbconvert_exporter": "python",
   "pygments_lexer": "ipython3",
   "version": "3.10.13"
  }
 },
 "nbformat": 4,
 "nbformat_minor": 2
}
